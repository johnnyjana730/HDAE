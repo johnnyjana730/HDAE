{
 "cells": [
  {
   "cell_type": "markdown",
   "metadata": {},
   "source": [
    "# Running HDAE for OPOSUM and Restaurant Review Dataset\n",
    "\n",
    "After running the following code, all the information of evaluation for each epoch will be store in `Results` folder, including `F1 score`, `bar plot`, and `TSNE plot` shown in our paper."
   ]
  },
  {
   "cell_type": "code",
   "execution_count": 1,
   "metadata": {},
   "outputs": [
    {
     "name": "stdout",
     "output_type": "stream",
     "text": [
      "dataset =  VACUUMS\n"
     ]
    }
   ],
   "source": [
    "\"\"\" Global Setting \"\"\"\n",
    "import os \n",
    "from config import get_hparams\n",
    "\n",
    "!export PYTHONPATH=\"./\"\n",
    "os.environ[\"CUDA_VISIBLE_DEVICES\"]=\"0\"\n",
    "\n",
    "from config import get_hparams\n",
    "\n",
    "# BOOTS, BAGS_AND_CASES, TV, KEYBOARDS, VACUUMS, BLUETOOTH\n",
    "# \"REST_\" + \"EN\" | \"SP\" | \"FR\" | \"RU\" | \"DU\" | \"TU\"\n",
    "DATASET = \"VACUUMS\"\n",
    "locals().update(get_hparams(DATASET))\n",
    "\n",
    "sumout = f\"./Results/{DATASET}/\"\n",
    "aspect_seeds = f\"./data/seedwords/{SEEDS}.{aspects}-weights.txt\"\n",
    "aspect_init_file = f\"./data/seedwords/{SEEDS}.{aspects}.txt\"\n",
    "train_type = \"rec_mt_neva_tsne\"\n",
    "student_type = \"hyper_rec_dis_10_gbl_tsne\"\n",
    "\n",
    "command = f\"python3 ./main.py --sumout {sumout} \\\n",
    "                              --aspect_seeds {aspect_seeds} \\\n",
    "                              --aspect_init_file {aspect_init_file} \\\n",
    "                              --general_asp {general_asp} \\\n",
    "                              --dataset {DATASET} \\\n",
    "                              --train_type {train_type} --student_type {student_type} \\\n",
    "                              --lr {lr} \\\n",
    "                              --dis_mu {dis_mu} \\\n",
    "                              --hyper_beta {hyper_beta} \\\n",
    "                              --gb_temp {gb_temp} \\\n",
    "                              --w2v_ratio {w2v_ratio} \\\n",
    "                              --st_num_aspect {st_num_aspect} \\\n",
    "                              --mt_ratio {mt_ratio} \\\n",
    "                              --dis_1 {dis_1} --dis_2 {dis_2} --dis_3 {dis_3} \\\n",
    "                              --aspect_tsne_bt {aspect_tsne_bt}\""
   ]
  },
  {
   "cell_type": "code",
   "execution_count": null,
   "metadata": {},
   "outputs": [],
   "source": [
    "\"\"\" Running HDAE \"\"\"\n",
    "print(\"Running Command:\")\n",
    "print(' '.join(command.split()))\n",
    "\n",
    "!{command}"
   ]
  },
  {
   "cell_type": "code",
   "execution_count": null,
   "metadata": {},
   "outputs": [],
   "source": [
    "\"\"\" Show Results \"\"\"\n",
    "from PIL import Image\n",
    "\n",
    "best_epoch = 1 # manually select\n",
    "\n",
    "display(Image.open(f\"{sumout}plot_fig{best_epoch}.png\").resize((800, 600)))\n",
    "display(Image.open(f\"{sumout}TSNE_type_fig{best_epoch}.png\").resize((800, 600)))"
   ]
  }
 ],
 "metadata": {
  "kernelspec": {
   "display_name": "base",
   "language": "python",
   "name": "base"
  },
  "language_info": {
   "codemirror_mode": {
    "name": "ipython",
    "version": 3
   },
   "file_extension": ".py",
   "mimetype": "text/x-python",
   "name": "python",
   "nbconvert_exporter": "python",
   "pygments_lexer": "ipython3",
   "version": "3.8.5"
  }
 },
 "nbformat": 4,
 "nbformat_minor": 4
}
